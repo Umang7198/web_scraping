{
 "cells": [
  {
   "cell_type": "code",
   "execution_count": 23,
   "metadata": {},
   "outputs": [
    {
     "data": {
      "text/plain": [
       "(443, 4)"
      ]
     },
     "execution_count": 23,
     "metadata": {},
     "output_type": "execute_result"
    }
   ],
   "source": [
    "import pandas as pd\n",
    "from bs4 import BeautifulSoup\n",
    "import requests\n",
    "\n",
    "df=pd.read_csv('info.csv')\n",
    "df.shape"
   ]
  },
  {
   "cell_type": "code",
   "execution_count": 69,
   "metadata": {},
   "outputs": [
    {
     "data": {
      "text/plain": [
       "Name                                                                       0\n",
       "Job title                                                                  0\n",
       "Organization                                                               0\n",
       "link                                                                       0\n",
       "What are you working on in the field of social and economic justice?       0\n",
       "What do you need from the Delegate community to move this work forward?    0\n",
       "What are you able and willing to contribute to the Delegate community?     0\n",
       "dtype: int64"
      ]
     },
     "execution_count": 69,
     "metadata": {},
     "output_type": "execute_result"
    }
   ],
   "source": [
    "df.isnull().sum()"
   ]
  },
  {
   "cell_type": "code",
   "execution_count": 2,
   "metadata": {},
   "outputs": [],
   "source": [
    "from selenium import webdriver\n",
    "from bs4 import BeautifulSoup\n",
    "from selenium.webdriver.common.alert import Alert\n",
    "from selenium.webdriver.common.by import By\n",
    "from selenium.webdriver.common.keys import Keys\n",
    "import time"
   ]
  },
  {
   "cell_type": "code",
   "execution_count": null,
   "metadata": {},
   "outputs": [],
   "source": [
    "driver = webdriver.Chrome()\n",
    "que1=[]\n",
    "que2=[]\n",
    "que3=[]\n",
    "error=[]\n",
    "for i in df['link']:\n",
    "    driver.get(i)\n",
    "    time.sleep(5)\n",
    "    p = driver.page_source\n",
    "    soup = BeautifulSoup(p,'lxml')\n",
    "    print(i)\n",
    "    try:\n",
    "\n",
    "        if len(soup.find_all('div',{'class':'expandable-content__ChildrenWrapper-ui__sc-1k0xztj-3'}))==3:\n",
    "            q1 = soup.find_all('div',{'class': \"expandable-content__ChildrenWrapper-ui__sc-1k0xztj-3\"})[0]\n",
    "            q2=soup.find_all('div',{'class': \"expandable-content__ChildrenWrapper-ui__sc-1k0xztj-3\"})[1]\n",
    "            q3=soup.find_all('div',{'class': \"expandable-content__ChildrenWrapper-ui__sc-1k0xztj-3\"})[2]\n",
    "        \n",
    "        else:\n",
    "            q1 = soup.find_all('div',{'class': \"expandable-content__ChildrenWrapper-ui__sc-1k0xztj-3\"})[1]\n",
    "            q2=soup.find_all('div',{'class': \"expandable-content__ChildrenWrapper-ui__sc-1k0xztj-3\"})[2]\n",
    "            q3=soup.find_all('div',{'class': \"expandable-content__ChildrenWrapper-ui__sc-1k0xztj-3\"})[3]\n",
    "    \n",
    "        que1.append(q1.text)\n",
    "        que2.append(q2.text)\n",
    "        que3.append(q3.text)\n",
    "    except:\n",
    "        que1.append('')\n",
    "        que2.append('')\n",
    "        que3.append('')\n",
    "        error.append(i)\n",
    "driver.quit()"
   ]
  },
  {
   "cell_type": "code",
   "execution_count": 64,
   "metadata": {},
   "outputs": [
    {
     "name": "stdout",
     "output_type": "stream",
     "text": [
      "43\n"
     ]
    }
   ],
   "source": [
    "print(len(error))"
   ]
  },
  {
   "cell_type": "code",
   "execution_count": 65,
   "metadata": {},
   "outputs": [],
   "source": [
    "df['What are you working on in the field of social and economic justice?']=que1\n",
    "df['What do you need from the Delegate community to move this work forward?']=que2\n",
    "df['What are you able and willing to contribute to the Delegate community?']=que3"
   ]
  },
  {
   "cell_type": "code",
   "execution_count": 68,
   "metadata": {},
   "outputs": [],
   "source": [
    "df.to_csv('final.csv')"
   ]
  },
  {
   "cell_type": "code",
   "execution_count": null,
   "metadata": {},
   "outputs": [],
   "source": [
    "df[df['What are you able and willing to contribute to the Delegate community?'].isnull().sum()]"
   ]
  },
  {
   "cell_type": "code",
   "execution_count": null,
   "metadata": {},
   "outputs": [],
   "source": [
    "rows_with_nulls = df[df.isnull().any(axis=1)]['link']\n",
    "rows_with_nulls"
   ]
  },
  {
   "cell_type": "code",
   "execution_count": 47,
   "metadata": {},
   "outputs": [
    {
     "ename": "ParserException",
     "evalue": "Parser Error: syntax error at end of input",
     "output_type": "error",
     "traceback": [
      "\u001b[1;31m---------------------------------------------------------------------------\u001b[0m",
      "\u001b[1;31mParserException\u001b[0m                           Traceback (most recent call last)",
      "\u001b[1;32mc:\\Users\\umang chaudhary\\Desktop\\umang\\final_db_code.ipynb Cell 10\u001b[0m line \u001b[0;36m5\n\u001b[0;32m      <a href='vscode-notebook-cell:/c%3A/Users/umang%20chaudhary/Desktop/umang/final_db_code.ipynb#X12sZmlsZQ%3D%3D?line=1'>2</a>\u001b[0m path\u001b[39m=\u001b[39m\u001b[39m'\u001b[39m\u001b[39mfinal.csv\u001b[39m\u001b[39m'\u001b[39m\n\u001b[0;32m      <a href='vscode-notebook-cell:/c%3A/Users/umang%20chaudhary/Desktop/umang/final_db_code.ipynb#X12sZmlsZQ%3D%3D?line=2'>3</a>\u001b[0m con\u001b[39m=\u001b[39mduckdb\u001b[39m.\u001b[39mconnect(\u001b[39m'\u001b[39m\u001b[39mmydb.db\u001b[39m\u001b[39m'\u001b[39m)\n\u001b[1;32m----> <a href='vscode-notebook-cell:/c%3A/Users/umang%20chaudhary/Desktop/umang/final_db_code.ipynb#X12sZmlsZQ%3D%3D?line=4'>5</a>\u001b[0m o\u001b[39m=\u001b[39mcon\u001b[39m.\u001b[39;49msql(\u001b[39m'\u001b[39;49m\u001b[39mcreate table try\u001b[39;49m\u001b[39m'\u001b[39;49m)\n",
      "\u001b[1;31mParserException\u001b[0m: Parser Error: syntax error at end of input"
     ]
    }
   ],
   "source": [
    "import duckdb\n",
    "path='final.csv'\n",
    "con=duckdb.connect('mydb.db')\n",
    "\n",
    "o=con.sql('create table try')"
   ]
  },
  {
   "cell_type": "code",
   "execution_count": 41,
   "metadata": {},
   "outputs": [
    {
     "ename": "InvalidInputException",
     "evalue": "Invalid Input Error: Error in file \"final.csv\" at line 79 in column \"\"Q1\"\": Invalid unicode (byte sequence mismatch) detected in CSV file. Parser options:\n  file=final.csv\n  delimiter=',' (default)\n  quote='\"' (default)\n  escape='\"' (default)\n  header=0' (default)\n  sample_size=20480\n  ignore_errors=0\n  all_varchar=0",
     "output_type": "error",
     "traceback": [
      "\u001b[1;31m---------------------------------------------------------------------------\u001b[0m",
      "\u001b[1;31mInvalidInputException\u001b[0m                     Traceback (most recent call last)",
      "\u001b[1;32mc:\\Users\\umang chaudhary\\Desktop\\umang\\final_db_code.ipynb Cell 11\u001b[0m line \u001b[0;36m3\n\u001b[0;32m      <a href='vscode-notebook-cell:/c%3A/Users/umang%20chaudhary/Desktop/umang/final_db_code.ipynb#X13sZmlsZQ%3D%3D?line=0'>1</a>\u001b[0m d \u001b[39m=\u001b[39m \u001b[39mf\u001b[39m\u001b[39m\"\"\"\u001b[39m\u001b[39mCOPY my_table From \u001b[39m\u001b[39m'\u001b[39m\u001b[39mfinal.csv\u001b[39m\u001b[39m'\u001b[39m\n\u001b[0;32m      <a href='vscode-notebook-cell:/c%3A/Users/umang%20chaudhary/Desktop/umang/final_db_code.ipynb#X13sZmlsZQ%3D%3D?line=1'>2</a>\u001b[0m \u001b[39m; \u001b[39m\u001b[39m\"\"\"\u001b[39m\n\u001b[1;32m----> <a href='vscode-notebook-cell:/c%3A/Users/umang%20chaudhary/Desktop/umang/final_db_code.ipynb#X13sZmlsZQ%3D%3D?line=2'>3</a>\u001b[0m data \u001b[39m=\u001b[39m con\u001b[39m.\u001b[39;49mexecute(d)\n",
      "\u001b[1;31mInvalidInputException\u001b[0m: Invalid Input Error: Error in file \"final.csv\" at line 79 in column \"\"Q1\"\": Invalid unicode (byte sequence mismatch) detected in CSV file. Parser options:\n  file=final.csv\n  delimiter=',' (default)\n  quote='\"' (default)\n  escape='\"' (default)\n  header=0' (default)\n  sample_size=20480\n  ignore_errors=0\n  all_varchar=0"
     ]
    }
   ],
   "source": [
    "q=f\"\"\" CREATE TABLE my_table (\n",
    "    Name VARCHAR(255),\n",
    "    Job_title VARCHAR(255),\n",
    "    Organization VARCHAR(255),\n",
    "    Q1 VARCHAR(50000),\n",
    "    Q2 VARCHAR(50000),\n",
    "    Q3 VARCHAR(50000)\n",
    ");\n",
    "\"\"\"\n",
    "\n",
    "d1=con.execute(q).df()\n",
    "d=f\"\"\"SELECT * FROM my_table;\"\"\"\n",
    "data=con.execute(d).df()\n",
    "data\n",
    "d = f\"\"\"COPY my_table From 'final.csv';\"\"\"\n",
    "data = con.execute(d)\n"
   ]
  },
  {
   "cell_type": "code",
   "execution_count": 48,
   "metadata": {},
   "outputs": [
    {
     "name": "stdout",
     "output_type": "stream",
     "text": [
      "Error: 'utf-8' codec can't decode byte 0x92 in position 134: invalid start byte\n"
     ]
    }
   ],
   "source": [
    "import pandas as pd\n",
    "\n",
    "try:\n",
    "    df = pd.read_csv('C:\\\\Users\\\\umang chaudhary\\\\Desktop\\\\umang\\\\final.csv', encoding='utf-8')\n",
    "except Exception as e:\n",
    "    print(f\"Error: {e}\")"
   ]
  },
  {
   "cell_type": "code",
   "execution_count": null,
   "metadata": {},
   "outputs": [],
   "source": []
  }
 ],
 "metadata": {
  "kernelspec": {
   "display_name": "Python 3",
   "language": "python",
   "name": "python3"
  },
  "language_info": {
   "codemirror_mode": {
    "name": "ipython",
    "version": 3
   },
   "file_extension": ".py",
   "mimetype": "text/x-python",
   "name": "python",
   "nbconvert_exporter": "python",
   "pygments_lexer": "ipython3",
   "version": "3.10.2"
  }
 },
 "nbformat": 4,
 "nbformat_minor": 2
}
