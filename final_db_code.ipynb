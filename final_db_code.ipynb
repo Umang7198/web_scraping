{
 "cells": [
  {
   "cell_type": "code",
   "execution_count": 23,
   "metadata": {},
   "outputs": [
    {
     "data": {
      "text/plain": [
       "(443, 4)"
      ]
     },
     "execution_count": 23,
     "metadata": {},
     "output_type": "execute_result"
    }
   ],
   "source": [
    "import pandas as pd\n",
    "from bs4 import BeautifulSoup\n",
    "import requests\n",
    "\n",
    "df=pd.read_csv('info.csv')\n",
    "df.shape"
   ]
  },
  {
   "cell_type": "code",
   "execution_count": 69,
   "metadata": {},
   "outputs": [
    {
     "data": {
      "text/plain": [
       "Name                                                                       0\n",
       "Job title                                                                  0\n",
       "Organization                                                               0\n",
       "link                                                                       0\n",
       "What are you working on in the field of social and economic justice?       0\n",
       "What do you need from the Delegate community to move this work forward?    0\n",
       "What are you able and willing to contribute to the Delegate community?     0\n",
       "dtype: int64"
      ]
     },
     "execution_count": 69,
     "metadata": {},
     "output_type": "execute_result"
    }
   ],
   "source": [
    "df.isnull().sum()"
   ]
  },
  {
   "cell_type": "code",
   "execution_count": 2,
   "metadata": {},
   "outputs": [],
   "source": [
    "from selenium import webdriver\n",
    "from bs4 import BeautifulSoup\n",
    "from selenium.webdriver.common.alert import Alert\n",
    "from selenium.webdriver.common.by import By\n",
    "from selenium.webdriver.common.keys import Keys\n",
    "import time"
   ]
  },
  {
   "cell_type": "code",
   "execution_count": null,
   "metadata": {},
   "outputs": [],
   "source": [
    "driver = webdriver.Chrome()\n",
    "que1=[]\n",
    "que2=[]\n",
    "que3=[]\n",
    "error=[]\n",
    "for i in df['link']:\n",
    "    driver.get(i)\n",
    "    time.sleep(5)\n",
    "    p = driver.page_source\n",
    "    soup = BeautifulSoup(p,'lxml')\n",
    "    print(i)\n",
    "    try:\n",
    "\n",
    "        if len(soup.find_all('div',{'class':'expandable-content__ChildrenWrapper-ui__sc-1k0xztj-3'}))==3:\n",
    "            q1 = soup.find_all('div',{'class': \"expandable-content__ChildrenWrapper-ui__sc-1k0xztj-3\"})[0]\n",
    "            q2=soup.find_all('div',{'class': \"expandable-content__ChildrenWrapper-ui__sc-1k0xztj-3\"})[1]\n",
    "            q3=soup.find_all('div',{'class': \"expandable-content__ChildrenWrapper-ui__sc-1k0xztj-3\"})[2]\n",
    "        \n",
    "        else:\n",
    "            q1 = soup.find_all('div',{'class': \"expandable-content__ChildrenWrapper-ui__sc-1k0xztj-3\"})[1]\n",
    "            q2=soup.find_all('div',{'class': \"expandable-content__ChildrenWrapper-ui__sc-1k0xztj-3\"})[2]\n",
    "            q3=soup.find_all('div',{'class': \"expandable-content__ChildrenWrapper-ui__sc-1k0xztj-3\"})[3]\n",
    "    \n",
    "        que1.append(q1.text)\n",
    "        que2.append(q2.text)\n",
    "        que3.append(q3.text)\n",
    "    except:\n",
    "        que1.append('')\n",
    "        que2.append('')\n",
    "        que3.append('')\n",
    "        error.append(i)\n",
    "driver.quit()"
   ]
  },
  {
   "cell_type": "code",
   "execution_count": 64,
   "metadata": {},
   "outputs": [
    {
     "name": "stdout",
     "output_type": "stream",
     "text": [
      "43\n"
     ]
    }
   ],
   "source": [
    "print(len(error))"
   ]
  },
  {
   "cell_type": "code",
   "execution_count": 65,
   "metadata": {},
   "outputs": [],
   "source": [
    "df['What are you working on in the field of social and economic justice?']=que1\n",
    "df['What do you need from the Delegate community to move this work forward?']=que2\n",
    "df['What are you able and willing to contribute to the Delegate community?']=que3"
   ]
  },
  {
   "cell_type": "code",
   "execution_count": 68,
   "metadata": {},
   "outputs": [],
   "source": [
    "df.to_csv('final.csv')"
   ]
  },
  {
   "cell_type": "code",
   "execution_count": null,
   "metadata": {},
   "outputs": [],
   "source": [
    "df[df['What are you able and willing to contribute to the Delegate community?'].isnull().sum()]"
   ]
  }
 ],
 "metadata": {
  "kernelspec": {
   "display_name": "Python 3",
   "language": "python",
   "name": "python3"
  },
  "language_info": {
   "codemirror_mode": {
    "name": "ipython",
    "version": 3
   },
   "file_extension": ".py",
   "mimetype": "text/x-python",
   "name": "python",
   "nbconvert_exporter": "python",
   "pygments_lexer": "ipython3",
   "version": "3.10.2"
  }
 },
 "nbformat": 4,
 "nbformat_minor": 2
}
